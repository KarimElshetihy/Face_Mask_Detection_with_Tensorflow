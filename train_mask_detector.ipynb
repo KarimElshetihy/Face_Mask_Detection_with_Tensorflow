{
 "cells": [
  {
   "cell_type": "markdown",
   "metadata": {},
   "source": [
    "# Face Mask Detection"
   ]
  },
  {
   "cell_type": "markdown",
   "metadata": {},
   "source": [
    "### Importing Packages"
   ]
  },
  {
   "cell_type": "code",
   "execution_count": 9,
   "metadata": {},
   "outputs": [],
   "source": [
    "from tensorflow.keras.preprocessing.image import ImageDataGenerator, img_to_array, load_img\n",
    "from tensorflow.keras.applications import MobileNetV2\n",
    "from tensorflow.keras.applications.mobilenet_v2 import preprocess_input\n",
    "from tensorflow.keras.layers import AveragePooling2D, Dropout, Flatten, Dense, Input\n",
    "from tensorflow.keras.models import Model\n",
    "from tensorflow.keras.optimizers import Adam\n",
    "from tensorflow.keras.utils import to_categorical\n",
    "\n",
    "from sklearn.preprocessing import LabelBinarizer\n",
    "from sklearn.model_selection import train_test_split\n",
    "from sklearn.metrics import classification_report\n",
    "from imutils.paths import list_images\n",
    "import numpy as np\n",
    "import argparse\n",
    "import os\n",
    "import matplotlib.pyplot as plt"
   ]
  },
  {
   "cell_type": "markdown",
   "metadata": {},
   "source": [
    "### Defining Directories "
   ]
  },
  {
   "cell_type": "code",
   "execution_count": 31,
   "metadata": {},
   "outputs": [],
   "source": [
    "data_dir = \"Data/\"\n",
    "plot_dir = \"Results/plot.png\"\n",
    "model_dir = \"Models/mask_detector.model\""
   ]
  },
  {
   "cell_type": "markdown",
   "metadata": {},
   "source": [
    "### Loading the Dataset"
   ]
  },
  {
   "cell_type": "code",
   "execution_count": 12,
   "metadata": {},
   "outputs": [
    {
     "name": "stdout",
     "output_type": "stream",
     "text": [
      "[INFO] Loading Images...\n"
     ]
    }
   ],
   "source": [
    "print(\"[INFO] Loading Images...\")\n",
    "imagePaths = list(list_images(data_dir))\n",
    "data = []\n",
    "labels = []"
   ]
  },
  {
   "cell_type": "code",
   "execution_count": 13,
   "metadata": {},
   "outputs": [],
   "source": [
    "for imagePath in imagePaths:\n",
    "    label = imagePath.split('/')[-1].split('\\\\')[0]\n",
    "    # print(label)\n",
    "\n",
    "    image = load_img(imagePath, target_size=(224,224))\n",
    "    image = img_to_array(image)\n",
    "    image = preprocess_input(image)\n",
    "    \n",
    "    data.append(image)\n",
    "    labels.append(label)"
   ]
  },
  {
   "cell_type": "markdown",
   "metadata": {},
   "source": [
    "### Data Preprocessing"
   ]
  },
  {
   "cell_type": "code",
   "execution_count": 14,
   "metadata": {},
   "outputs": [],
   "source": [
    "data = np.array(data, dtype=\"float32\")\n",
    "labels = np.array(labels)\n",
    "\n",
    "lb = LabelBinarizer()\n",
    "labels = lb.fit_transform(labels)\n",
    "labels = to_categorical(labels)\n",
    "\n",
    "trainX, testX,  trainY, testY = train_test_split(data, labels, test_size=0.2, \n",
    "                                                stratify=labels, random_state=42)\n",
    "\n",
    "aug = ImageDataGenerator(rotation_range=20, \n",
    "                         zoom_range=0.15,\n",
    "                         width_shift_range=0.2, \n",
    "                         height_shift_range=0.2,\n",
    "                         shear_range=0.15, \n",
    "                         horizontal_flip=True, \n",
    "                         fill_mode='nearest')"
   ]
  },
  {
   "cell_type": "markdown",
   "metadata": {},
   "source": [
    "### Defining the Model"
   ]
  },
  {
   "cell_type": "code",
   "execution_count": 17,
   "metadata": {},
   "outputs": [],
   "source": [
    "baseModel = MobileNetV2(weights='imagenet', include_top=False, input_shape=(224, 224, 3))\n",
    "headModel = baseModel.output\n",
    "headModel = AveragePooling2D(pool_size=(7,7))(headModel)\n",
    "headModel = Flatten()(headModel)\n",
    "headModel = Dense(128, activation='relu')(headModel)\n",
    "headModel = Dropout(0.5)(headModel)\n",
    "headModel = Dense(2, activation='softmax')(headModel)\n",
    "\n",
    "model = Model(inputs=baseModel.input, outputs=headModel)"
   ]
  },
  {
   "cell_type": "code",
   "execution_count": 18,
   "metadata": {},
   "outputs": [],
   "source": [
    "for layer in baseModel.layers:\n",
    "    layer.trainable = False"
   ]
  },
  {
   "cell_type": "markdown",
   "metadata": {},
   "source": [
    "### Model Parameters"
   ]
  },
  {
   "cell_type": "code",
   "execution_count": 21,
   "metadata": {},
   "outputs": [],
   "source": [
    "INIT_LR = 1e-4\n",
    "EPOCHS = 20\n",
    "BATCH_SIZE = 32"
   ]
  },
  {
   "cell_type": "markdown",
   "metadata": {},
   "source": [
    "### Compiling Model"
   ]
  },
  {
   "cell_type": "code",
   "execution_count": 22,
   "metadata": {},
   "outputs": [
    {
     "name": "stdout",
     "output_type": "stream",
     "text": [
      "[INFO] Compiling Model...\n"
     ]
    },
    {
     "name": "stderr",
     "output_type": "stream",
     "text": [
      "D:\\PROGRAMS\\Miniconda\\lib\\site-packages\\keras\\optimizer_v2\\optimizer_v2.py:355: UserWarning: The `lr` argument is deprecated, use `learning_rate` instead.\n",
      "  warnings.warn(\n"
     ]
    }
   ],
   "source": [
    "print(\"[INFO] Compiling Model...\")\n",
    "\n",
    "opt = Adam(lr=INIT_LR, decay=INIT_LR / EPOCHS)\n",
    "model.compile(loss='binary_crossentropy', optimizer=opt, metrics=['accuracy'])"
   ]
  },
  {
   "cell_type": "code",
   "execution_count": 23,
   "metadata": {},
   "outputs": [
    {
     "name": "stdout",
     "output_type": "stream",
     "text": [
      "[INFO] Training Head...\n",
      "Epoch 1/20\n",
      "34/34 [==============================] - 60s 2s/step - loss: 0.4972 - accuracy: 0.7875 - val_loss: 0.2098 - val_accuracy: 0.9819\n",
      "Epoch 2/20\n",
      "34/34 [==============================] - 52s 2s/step - loss: 0.1758 - accuracy: 0.9738 - val_loss: 0.1063 - val_accuracy: 0.9783\n",
      "Epoch 3/20\n",
      "34/34 [==============================] - 55s 2s/step - loss: 0.1142 - accuracy: 0.9775 - val_loss: 0.0690 - val_accuracy: 0.9891\n",
      "Epoch 4/20\n",
      "34/34 [==============================] - 52s 2s/step - loss: 0.0732 - accuracy: 0.9897 - val_loss: 0.0516 - val_accuracy: 0.9891\n",
      "Epoch 5/20\n",
      "34/34 [==============================] - 55s 2s/step - loss: 0.0540 - accuracy: 0.9934 - val_loss: 0.0444 - val_accuracy: 0.9928\n",
      "Epoch 6/20\n",
      "34/34 [==============================] - 52s 2s/step - loss: 0.0497 - accuracy: 0.9869 - val_loss: 0.0354 - val_accuracy: 0.9891\n",
      "Epoch 7/20\n",
      "34/34 [==============================] - 52s 2s/step - loss: 0.0449 - accuracy: 0.9916 - val_loss: 0.0310 - val_accuracy: 0.9928\n",
      "Epoch 8/20\n",
      "34/34 [==============================] - 52s 2s/step - loss: 0.0342 - accuracy: 0.9944 - val_loss: 0.0268 - val_accuracy: 0.9891\n",
      "Epoch 9/20\n",
      "34/34 [==============================] - 51s 2s/step - loss: 0.0305 - accuracy: 0.9925 - val_loss: 0.0252 - val_accuracy: 0.9928\n",
      "Epoch 10/20\n",
      "34/34 [==============================] - 49s 1s/step - loss: 0.0231 - accuracy: 0.9963 - val_loss: 0.0222 - val_accuracy: 0.9928\n",
      "Epoch 11/20\n",
      "34/34 [==============================] - 49s 1s/step - loss: 0.0266 - accuracy: 0.9953 - val_loss: 0.0202 - val_accuracy: 0.9928\n",
      "Epoch 12/20\n",
      "34/34 [==============================] - 49s 1s/step - loss: 0.0213 - accuracy: 0.9963 - val_loss: 0.0195 - val_accuracy: 0.9928\n",
      "Epoch 13/20\n",
      "34/34 [==============================] - 49s 1s/step - loss: 0.0230 - accuracy: 0.9944 - val_loss: 0.0182 - val_accuracy: 0.9928\n",
      "Epoch 14/20\n",
      "34/34 [==============================] - 50s 1s/step - loss: 0.0166 - accuracy: 0.9981 - val_loss: 0.0173 - val_accuracy: 0.9928\n",
      "Epoch 15/20\n",
      "34/34 [==============================] - 49s 1s/step - loss: 0.0195 - accuracy: 0.9953 - val_loss: 0.0178 - val_accuracy: 0.9928\n",
      "Epoch 16/20\n",
      "34/34 [==============================] - 49s 1s/step - loss: 0.0198 - accuracy: 0.9953 - val_loss: 0.0150 - val_accuracy: 0.9928\n",
      "Epoch 17/20\n",
      "34/34 [==============================] - 52s 2s/step - loss: 0.0162 - accuracy: 0.9963 - val_loss: 0.0144 - val_accuracy: 0.9964\n",
      "Epoch 18/20\n",
      "34/34 [==============================] - 49s 1s/step - loss: 0.0189 - accuracy: 0.9963 - val_loss: 0.0147 - val_accuracy: 0.9964\n",
      "Epoch 19/20\n",
      "34/34 [==============================] - 49s 1s/step - loss: 0.0108 - accuracy: 0.9981 - val_loss: 0.0142 - val_accuracy: 0.9964\n",
      "Epoch 20/20\n",
      "34/34 [==============================] - 49s 1s/step - loss: 0.0156 - accuracy: 0.9944 - val_loss: 0.0141 - val_accuracy: 0.9928\n"
     ]
    }
   ],
   "source": [
    "print(\"[INFO] Training Head...\")\n",
    "head = model.fit(aug.flow(trainX, trainY, batch_size=BATCH_SIZE),\n",
    "                 steps_per_epoch = len(trainX) // BATCH_SIZE,\n",
    "                 validation_data = (testX, testY),\n",
    "                 validation_steps = len(testX) // BATCH_SIZE,\n",
    "                 epochs = EPOCHS)"
   ]
  },
  {
   "cell_type": "markdown",
   "metadata": {},
   "source": [
    "### Model Evaluation "
   ]
  },
  {
   "cell_type": "code",
   "execution_count": 29,
   "metadata": {},
   "outputs": [
    {
     "name": "stdout",
     "output_type": "stream",
     "text": [
      "[INFO] Evaluating Network...\n",
      "              precision    recall  f1-score   support\n",
      "\n",
      "   with_mask       1.00      0.99      0.99       138\n",
      "without_mask       0.99      1.00      0.99       138\n",
      "\n",
      "    accuracy                           0.99       276\n",
      "   macro avg       0.99      0.99      0.99       276\n",
      "weighted avg       0.99      0.99      0.99       276\n",
      "\n"
     ]
    }
   ],
   "source": [
    "print(\"[INFO] Evaluating Network...\")\n",
    "\n",
    "predIdxs = model.predict(testX, batch_size=BATCH_SIZE)\n",
    "predIdxs = np.argmax(predIdxs, axis=1)\n",
    "\n",
    "print(classification_report(testY.argmax(axis = 1), predIdxs, target_names = lb.classes_))"
   ]
  },
  {
   "cell_type": "markdown",
   "metadata": {},
   "source": [
    "### Saving the Model "
   ]
  },
  {
   "cell_type": "code",
   "execution_count": 32,
   "metadata": {},
   "outputs": [
    {
     "name": "stdout",
     "output_type": "stream",
     "text": [
      "[INFO] Saving Model...\n"
     ]
    },
    {
     "name": "stderr",
     "output_type": "stream",
     "text": [
      "D:\\PROGRAMS\\Miniconda\\lib\\site-packages\\keras\\utils\\generic_utils.py:494: CustomMaskWarning: Custom mask layers require a config and must override get_config. When loading, the custom mask layer must be passed to the custom_objects argument.\n",
      "  warnings.warn('Custom mask layers require a config and must override '\n"
     ]
    }
   ],
   "source": [
    "print(\"[INFO] Saving Model...\")\n",
    "\n",
    "model.save(model_dir, save_format = 'h5')"
   ]
  },
  {
   "cell_type": "markdown",
   "metadata": {},
   "source": [
    "### Showing Training & Validation Accuracies "
   ]
  },
  {
   "cell_type": "code",
   "execution_count": 37,
   "metadata": {},
   "outputs": [
    {
     "data": {
      "image/png": "[encoded data removed]",
      "text/plain": [
       "<Figure size 1080x360 with 1 Axes>"
      ]
     },
     "metadata": {},
     "output_type": "display_data"
    }
   ],
   "source": [
    "plt.style.use(\"ggplot\")\n",
    "plt.figure(figsize=(15,5))\n",
    "\n",
    "plt.plot(np.arange(0, EPOCHS), head.history['loss'], label='Training Loss')\n",
    "plt.plot(np.arange(0, EPOCHS), head.history['val_loss'], label='Validation Loss')\n",
    "plt.plot(np.arange(0, EPOCHS), head.history['accuracy'], label='Training Accuracy')\n",
    "plt.plot(np.arange(0, EPOCHS), head.history['val_accuracy'], label='Validation Accuracy')\n",
    "\n",
    "plt.title(\"Training Loss & Accuracy\")\n",
    "plt.xlabel('Epoch')\n",
    "plt.ylabel('Loss / Accuracy')\n",
    "plt.legend(loc='lower left')\n",
    "plt.savefig(plot_dir)"
   ]
  },
  {
   "cell_type": "code",
   "execution_count": null,
   "metadata": {},
   "outputs": [],
   "source": []
  }
 ],
 "metadata": {
  "kernelspec": {
   "display_name": "Python 3 (ipykernel)",
   "language": "python",
   "name": "python3"
  },
  "language_info": {
   "codemirror_mode": {
    "name": "ipython",
    "version": 3
   },
   "file_extension": ".py",
   "mimetype": "text/x-python",
   "name": "python",
   "nbconvert_exporter": "python",
   "pygments_lexer": "ipython3",
   "version": "3.9.5"
  }
 },
 "nbformat": 4,
 "nbformat_minor": 4
}
